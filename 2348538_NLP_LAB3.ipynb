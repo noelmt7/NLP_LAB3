{
  "nbformat": 4,
  "nbformat_minor": 0,
  "metadata": {
    "colab": {
      "provenance": [],
      "authorship_tag": "ABX9TyP5Ydduy4u04KwKoCQJ2au0",
      "include_colab_link": true
    },
    "kernelspec": {
      "name": "python3",
      "display_name": "Python 3"
    },
    "language_info": {
      "name": "python"
    }
  },
  "cells": [
    {
      "cell_type": "markdown",
      "metadata": {
        "id": "view-in-github",
        "colab_type": "text"
      },
      "source": [
        "<a href=\"https://colab.research.google.com/github/noelmt7/NLP_LAB3/blob/main/2348538_NLP_LAB3.ipynb\" target=\"_parent\"><img src=\"https://colab.research.google.com/assets/colab-badge.svg\" alt=\"Open In Colab\"/></a>"
      ]
    },
    {
      "cell_type": "code",
      "execution_count": 7,
      "metadata": {
        "id": "QkdSnD85STOL"
      },
      "outputs": [],
      "source": [
        "import nltk.data\n",
        "import re\n",
        "import string"
      ]
    },
    {
      "cell_type": "code",
      "source": [
        "nltk.download('punkt')"
      ],
      "metadata": {
        "colab": {
          "base_uri": "https://localhost:8080/"
        },
        "id": "Grvijfr0UEU_",
        "outputId": "87dd8f05-99fc-4971-dc55-c43ed6bc1055"
      },
      "execution_count": 2,
      "outputs": [
        {
          "output_type": "stream",
          "name": "stderr",
          "text": [
            "[nltk_data] Downloading package punkt to /root/nltk_data...\n",
            "[nltk_data]   Unzipping tokenizers/punkt.zip.\n"
          ]
        },
        {
          "output_type": "execute_result",
          "data": {
            "text/plain": [
              "True"
            ]
          },
          "metadata": {},
          "execution_count": 2
        }
      ]
    },
    {
      "cell_type": "code",
      "source": [
        "from nltk.tokenize import word_tokenize, sent_tokenize\n",
        "\n",
        "malayalam_text = \"ഗ്രഹണം ബാധിച്ചാലും അതിനൊരു സമയമുണ്ട്. സൂര്യന്‍ ആ കറുത്ത മറ നീക്കി പുറത്ത് വരും, അത് പോലെ തന്നെയാണ് സത്യവും മൂടി വെയ്ക്കാം വളച്ചൊടിക്കാം, പക്ഷേ ഒരുനാള്‍ ഒരിടത്ത് മറനീക്കി പുറത്ത് വരും മിസ്റ്റര്‍ സുപ്രീംടെന്റന്റ് ഓഫ് പോലീസ്.\"\n",
        "spanish_text = \"En España, el español es el idioma principal. Es un idioma muy hermoso.\"\n",
        "\n",
        "def tokenize_text(text, language='english'):\n",
        "    sentences = sent_tokenize(text, language=language)\n",
        "    words = [word_tokenize(sent, language=language) for sent in sentences]\n",
        "    return sentences, words\n",
        "\n",
        "mal_sentences, mal_words = tokenize_text(malayalam_text, language='english')\n",
        "print(\"Malayalam Sentences:\", mal_sentences)\n",
        "print(\"Malayalam Words:\", mal_words)\n",
        "\n",
        "span_sentences, span_words = tokenize_text(spanish_text, language='spanish')\n",
        "print(\"\\nSpanish Sentences:\", span_sentences)\n",
        "print(\"Spanish Words:\", span_words)\n"
      ],
      "metadata": {
        "colab": {
          "base_uri": "https://localhost:8080/"
        },
        "id": "cdlG3FViUas6",
        "outputId": "e4d535f2-5071-44fb-e97e-3f45cac90eaa"
      },
      "execution_count": 13,
      "outputs": [
        {
          "output_type": "stream",
          "name": "stdout",
          "text": [
            "Malayalam Sentences: ['ഗ്രഹണം ബാധിച്ചാലും അതിനൊരു സമയമുണ്ട്.', 'സൂര്യന്\\u200d ആ കറുത്ത മറ നീക്കി പുറത്ത് വരും, അത് പോലെ തന്നെയാണ് സത്യവും മൂടി വെയ്ക്കാം വളച്ചൊടിക്കാം, പക്ഷേ ഒരുനാള്\\u200d ഒരിടത്ത് മറനീക്കി പുറത്ത് വരും മിസ്റ്റര്\\u200d സുപ്രീംടെന്റന്റ് ഓഫ് പോലീസ്.']\n",
            "Malayalam Words: [['ഗ്രഹണം', 'ബാധിച്ചാലും', 'അതിനൊരു', 'സമയമുണ്ട്', '.'], ['സൂര്യന്\\u200d', 'ആ', 'കറുത്ത', 'മറ', 'നീക്കി', 'പുറത്ത്', 'വരും', ',', 'അത്', 'പോലെ', 'തന്നെയാണ്', 'സത്യവും', 'മൂടി', 'വെയ്ക്കാം', 'വളച്ചൊടിക്കാം', ',', 'പക്ഷേ', 'ഒരുനാള്\\u200d', 'ഒരിടത്ത്', 'മറനീക്കി', 'പുറത്ത്', 'വരും', 'മിസ്റ്റര്\\u200d', 'സുപ്രീംടെന്റന്റ്', 'ഓഫ്', 'പോലീസ്', '.']]\n",
            "\n",
            "Spanish Sentences: ['En España, el español es el idioma principal.', 'Es un idioma muy hermoso.']\n",
            "Spanish Words: [['En', 'España', ',', 'el', 'español', 'es', 'el', 'idioma', 'principal', '.'], ['Es', 'un', 'idioma', 'muy', 'hermoso', '.']]\n"
          ]
        }
      ]
    },
    {
      "cell_type": "code",
      "source": [
        "tokens = word_tokenize(malayalam_text.lower())\n",
        "unique_tokens_count = len(set(tokens))\n",
        "print(\"Number of unique tokens in malayalam:\", unique_tokens_count)"
      ],
      "metadata": {
        "colab": {
          "base_uri": "https://localhost:8080/"
        },
        "id": "FR1rKQR9U3jJ",
        "outputId": "b5783984-3d8c-4dae-855f-19ad10f16975"
      },
      "execution_count": 14,
      "outputs": [
        {
          "output_type": "stream",
          "name": "stdout",
          "text": [
            "Number of unique tokens in malayalam: 28\n"
          ]
        }
      ]
    },
    {
      "cell_type": "code",
      "source": [
        "tokens = word_tokenize(spanish_text.lower())\n",
        "unique_tokens_count = len(set(tokens))\n",
        "print(\"Number of unique tokens in malayalam:\", unique_tokens_count)"
      ],
      "metadata": {
        "colab": {
          "base_uri": "https://localhost:8080/"
        },
        "id": "FwK9-E81cwaZ",
        "outputId": "dd739363-1884-4184-b95f-e4d3f20ac1b1"
      },
      "execution_count": 15,
      "outputs": [
        {
          "output_type": "stream",
          "name": "stdout",
          "text": [
            "Number of unique tokens in malayalam: 12\n"
          ]
        }
      ]
    },
    {
      "cell_type": "code",
      "source": [
        "\n",
        "punctuation_count = len([char for char in text if char in string.punctuation])\n",
        "text_no_punct = re.sub(r'[^\\w\\s]', '', text)\n",
        "punctuation_count"
      ],
      "metadata": {
        "colab": {
          "base_uri": "https://localhost:8080/"
        },
        "id": "A_lGij-ZVYPg",
        "outputId": "1546835f-955e-4e53-e742-bce6b1b98fd6"
      },
      "execution_count": 9,
      "outputs": [
        {
          "output_type": "execute_result",
          "data": {
            "text/plain": [
              "11"
            ]
          },
          "metadata": {},
          "execution_count": 9
        }
      ]
    },
    {
      "cell_type": "code",
      "source": [],
      "metadata": {
        "id": "264Xl473VatA"
      },
      "execution_count": null,
      "outputs": []
    }
  ]
}